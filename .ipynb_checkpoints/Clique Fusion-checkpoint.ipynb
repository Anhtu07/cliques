{
 "cells": [
  {
   "cell_type": "code",
   "execution_count": 1,
   "metadata": {},
   "outputs": [],
   "source": [
    "import warnings\n",
    "warnings.filterwarnings('ignore')\n",
    "from CliqueMaster import CliqueMaster\n",
    "from Clique import Clique\n",
    "import os\n",
    "import sys\n",
    "\n",
    "# Initiate\n",
    "Cm = CliqueMaster()\n",
    "times = dict()\n",
    "nodes = dict()\n",
    "nb_lines = 0\n",
    "resurrect = False\n",
    "\n",
    "omega = None\n",
    "old_b = None\n",
    "old_e = 0\n",
    "\n",
    "file_name = \"./test_link.txt\"\n",
    "file = open(file_name, 'r')\n",
    "\n",
    "#sys.stdout = open(os.devnull, 'w')"
   ]
  },
  {
   "cell_type": "code",
   "execution_count": 2,
   "metadata": {},
   "outputs": [],
   "source": [
    "test_ls = []\n",
    "for line in file:\n",
    "    contents = line.split()\n",
    "    b = float(contents[0])\n",
    "    e = float(contents[1])\n",
    "    u = contents[2].strip()\n",
    "    v = contents[3].strip()\n",
    "    test_ls.append([b,e,u,v])"
   ]
  },
  {
   "cell_type": "code",
   "execution_count": 3,
   "metadata": {},
   "outputs": [],
   "source": [
    "def get_cliques(ls):\n",
    "    Cm = CliqueMaster()\n",
    "    times = dict()\n",
    "    nodes = dict()\n",
    "    nb_lines = 0\n",
    "    resurrect = False\n",
    "    \n",
    "    omega = None\n",
    "    old_b = None\n",
    "    old_e = 0\n",
    "    \n",
    "    for link in ls:\n",
    "        b = link[0]\n",
    "        e = link[1]\n",
    "        u = link[2]\n",
    "        v = link[3]\n",
    "        \n",
    "        if omega == None or omega < e:\n",
    "            omega = e\n",
    "\n",
    "\n",
    "        link = frozenset([u, v])\n",
    "        time = (b, b)\n",
    "\n",
    "        # This a new instance\n",
    "        Cm.addClique(Clique((link, time), set([])))\n",
    "\n",
    "        # Populate data structures\n",
    "        if link not in times:\n",
    "            times[link] = []\n",
    "        times[link].append((b,e))\n",
    "\n",
    "        if u not in nodes:\n",
    "            nodes[u] = set()\n",
    "\n",
    "        if v not in nodes:\n",
    "            nodes[v] = set()\n",
    "\n",
    "        nodes[u].add(v)\n",
    "        nodes[v].add(u)\n",
    "\n",
    "        assert(b <= e)\n",
    "        assert( (old_b == None) or (b >= old_b) )\n",
    "        if b == old_b:\n",
    "            assert(e >= old_e)\n",
    "\n",
    "        (old_b,old_e) = (b,e)\n",
    "        nb_lines = nb_lines + 1\n",
    "\n",
    "    Cm._times = times\n",
    "    Cm._nodes = nodes\n",
    "\n",
    "\n",
    "    # Start execution\n",
    "    R = Cm.getMaximalCliques(omega)\n",
    "    return R"
   ]
  },
  {
   "cell_type": "code",
   "execution_count": 6,
   "metadata": {
    "scrolled": false
   },
   "outputs": [],
   "source": [
    "r = get_cliques(test_ls)"
   ]
  },
  {
   "cell_type": "code",
   "execution_count": 5,
   "metadata": {},
   "outputs": [
    {
     "data": {
      "text/plain": [
       "{1,2 1.0,8.0, 1,2,3 5.0,6.0, 1,3 5.0,7.0, 2,3 2.0,6.0}"
      ]
     },
     "execution_count": 5,
     "metadata": {},
     "output_type": "execute_result"
    }
   ],
   "source": [
    "r"
   ]
  },
  {
   "cell_type": "markdown",
   "metadata": {},
   "source": [
    "## Socio's High School Dataset"
   ]
  },
  {
   "cell_type": "code",
   "execution_count": 4,
   "metadata": {},
   "outputs": [],
   "source": [
    "import pandas as pd\n",
    "data = pd.read_csv('./High-School_data_2013.csv', header = None, delimiter='\\t')\n",
    "stream = data[0]"
   ]
  },
  {
   "cell_type": "code",
   "execution_count": 5,
   "metadata": {},
   "outputs": [],
   "source": [
    "def time_b(link):\n",
    "    return link[0]\n",
    "\n",
    "def time_e(link):\n",
    "    return link[1]\n",
    "\n",
    "def time_la(link):\n",
    "    return link[0] * 1000000 + link[1]\n",
    "\n",
    "def order(link):\n",
    "    time = link[0]\n",
    "    s = link[2] + link[3]\n",
    "    s = int(s)\n",
    "    return s*1000000 + time"
   ]
  },
  {
   "cell_type": "code",
   "execution_count": 6,
   "metadata": {
    "scrolled": true
   },
   "outputs": [],
   "source": [
    "min_time = 1385982000\n",
    "unprocessed_links_stream = []\n",
    "for line in stream:\n",
    "    time, s1, s2 = line.split(' ')[0:3]\n",
    "    time = int(time) - min_time\n",
    "    if int(s1) > int(s2):\n",
    "        temp = s1\n",
    "        s1 = s2\n",
    "        s2 = temp\n",
    "    link = [time - 20, time, s1, s2]\n",
    "    unprocessed_links_stream.append(link)\n",
    "sorted_links_stream = sorted(unprocessed_links_stream, key=order)"
   ]
  },
  {
   "cell_type": "code",
   "execution_count": 7,
   "metadata": {},
   "outputs": [],
   "source": [
    "import copy\n",
    "merged_links_stream = []\n",
    "l = len(sorted_links_stream)\n",
    "flag = [False] * l\n",
    "for i in range(l):\n",
    "    if flag[i] == True:\n",
    "        continue\n",
    "    flag[i] == True\n",
    "    l1 = copy.deepcopy(sorted_links_stream[i])\n",
    "    for j in range(i+1, l):\n",
    "        if flag[j] == True:\n",
    "            continue\n",
    "        l2 = copy.deepcopy(sorted_links_stream[j])\n",
    "        if l2[2] != l1[2] or l2[3] != l1[3] or l2[0] > l1[1] + 20:\n",
    "            merged_links_stream.append(l1)\n",
    "            break\n",
    "        if l1[1] + 20 >= l2[0]:\n",
    "            l1[1] = l2[1]\n",
    "            flag[j] = True"
   ]
  },
  {
   "cell_type": "code",
   "execution_count": 8,
   "metadata": {},
   "outputs": [],
   "source": [
    "la = sorted(merged_links_stream, key = time_la)"
   ]
  },
  {
   "cell_type": "code",
   "execution_count": 9,
   "metadata": {},
   "outputs": [],
   "source": [
    "cliques = get_cliques(la)"
   ]
  },
  {
   "cell_type": "code",
   "execution_count": 10,
   "metadata": {},
   "outputs": [],
   "source": [
    "import pickle\n",
    "pickle.dump( cliques, open(\"high_school_cliques.p\", \"wb\"))"
   ]
  },
  {
   "cell_type": "markdown",
   "metadata": {},
   "source": [
    "## Creating graph"
   ]
  },
  {
   "cell_type": "code",
   "execution_count": 11,
   "metadata": {},
   "outputs": [],
   "source": [
    "import pickle\n",
    "cliques = pickle.load( open(\"high_school_cliques.p\", \"rb\" ) )"
   ]
  },
  {
   "cell_type": "code",
   "execution_count": 12,
   "metadata": {},
   "outputs": [],
   "source": [
    "node_clique_dict = {}\n",
    "i = 0\n",
    "for clique in cliques:\n",
    "    node_clique_dict.update({i : clique})\n",
    "    i += 1"
   ]
  },
  {
   "cell_type": "code",
   "execution_count": 13,
   "metadata": {},
   "outputs": [],
   "source": [
    "pickle.dump(node_clique_dict, open(\"node_clique_dict.p\", \"wb\"))"
   ]
  },
  {
   "cell_type": "code",
   "execution_count": 14,
   "metadata": {},
   "outputs": [],
   "source": [
    "import networkx as nx\n",
    "G = nx.DiGraph()\n",
    "for key in node_clique_dict:\n",
    "    G.add_node(key)"
   ]
  },
  {
   "cell_type": "code",
   "execution_count": 15,
   "metadata": {
    "scrolled": true
   },
   "outputs": [
    {
     "name": "stdout",
     "output_type": "stream",
     "text": [
      "step 2000, time = 35.774338245391846\n",
      "step 4000, time = 35.69455122947693\n",
      "step 6000, time = 35.94688391685486\n",
      "step 8000, time = 36.24810767173767\n",
      "step 10000, time = 36.30691385269165\n",
      "step 12000, time = 36.27600336074829\n",
      "step 14000, time = 36.78977608680725\n",
      "step 16000, time = 36.44342827796936\n",
      "step 18000, time = 36.10545539855957\n",
      "step 20000, time = 35.90003728866577\n",
      "step 22000, time = 36.30089998245239\n",
      "step 24000, time = 36.31389665603638\n",
      "step 26000, time = 36.06256937980652\n",
      "step 28000, time = 35.70256423950195\n",
      "step 30000, time = 35.69754672050476\n",
      "step 32000, time = 35.91097402572632\n",
      "step 34000, time = 36.255054235458374\n",
      "step 36000, time = 36.99804329872131\n",
      "step 38000, time = 36.460537910461426\n",
      "step 40000, time = 36.261040925979614\n",
      "step 42000, time = 36.74873495101929\n",
      "step 44000, time = 36.552292346954346\n",
      "step 46000, time = 36.72679424285889\n",
      "step 48000, time = 36.89833474159241\n",
      "step 50000, time = 36.3876678943634\n",
      "step 52000, time = 36.690889835357666\n",
      "step 54000, time = 36.679954290390015\n"
     ]
    }
   ],
   "source": [
    "import time\n",
    "start = time.time()\n",
    "counter = 0\n",
    "for n1 in G.node:\n",
    "    if counter % 2000 == 0:\n",
    "        start = time.time()\n",
    "    c1 = node_clique_dict[n1]\n",
    "    for n2 in G.node:\n",
    "        if n1 == n2:\n",
    "            continue\n",
    "        c2 = node_clique_dict[n2]\n",
    "        if c1._tb >= c2._tb and c1._te <= c2._te and all(x in c1._X for x in c2._X):\n",
    "            G.add_edge(n1, n2)\n",
    "    counter += 1\n",
    "    if counter % 2000 == 0:\n",
    "        end = time.time()\n",
    "        print('step ' + str(counter) + ', time = ' + str(end - start))"
   ]
  },
  {
   "cell_type": "code",
   "execution_count": 36,
   "metadata": {},
   "outputs": [],
   "source": [
    "pickle.dump(G, open(\"high_school_cliques_graph.p\", \"wb\"))"
   ]
  },
  {
   "cell_type": "markdown",
   "metadata": {},
   "source": [
    "## K-distance Cliques"
   ]
  },
  {
   "cell_type": "code",
   "execution_count": 1,
   "metadata": {},
   "outputs": [],
   "source": [
    "import pickle\n",
    "graph = pickle.load(open(\"high_school_cliques_graph.p\", \"rb\" ))\n",
    "node_clique_dict = pickle.load(open(\"node_clique_dict.p\", \"rb\"))"
   ]
  },
  {
   "cell_type": "code",
   "execution_count": 2,
   "metadata": {},
   "outputs": [],
   "source": [
    "def maximal_clique(graph):\n",
    "    out_vertices = set()\n",
    "    forbid = set()\n",
    "    for edge in graph.edges:\n",
    "        forbid.add(edge[1])\n",
    "    \n",
    "    for edge in graph.edges:\n",
    "        if edge[0] not in forbid:\n",
    "            out_vertices.add(edge[0])\n",
    "            \n",
    "    result = []\n",
    "    for node in out_vertices:\n",
    "        maximal_clique = []\n",
    "        vertices_set = set()\n",
    "        origin_clique = node_clique_dict[node]\n",
    "        v = [node for node in origin_clique._X]\n",
    "        for i in range(len(v)):\n",
    "            for j in range(i, len(v)):\n",
    "                if v[i] < v[j]:\n",
    "                    vertices_set.add((v[i], v[j]))\n",
    "                elif v[i] > v[j]:\n",
    "                    vertices_set.add((v[j], v[i]))\n",
    "                    \n",
    "        for pair in vertices_set:\n",
    "            maximal_clique.append([pair, origin_clique._tb, origin_clique._te])\n",
    "                \n",
    "        for n in graph.neighbors(node):\n",
    "            c = node_clique_dict[n]\n",
    "            v = [node for node in c._X]\n",
    "            for v1 in v:\n",
    "                for v2 in v:\n",
    "                    if (v1, v2) in vertices_set:\n",
    "                        for link in maximal_clique:\n",
    "                            if link[0] == (v1, v2):\n",
    "                                maximal_clique.remove(link)\n",
    "                                maximal_clique.append([(v1, v2), c._tb, c._te])\n",
    "        result.append(maximal_clique)\n",
    "    return result"
   ]
  },
  {
   "cell_type": "code",
   "execution_count": null,
   "metadata": {},
   "outputs": [],
   "source": [
    "def k_distance_clique(graph):\n",
    "    out_vertices = set()\n",
    "    forbid = set()\n",
    "    for edge in graph.edges:\n",
    "        forbid.add(edge[1])\n",
    "    \n",
    "    for edge in graph.edges:\n",
    "        if edge[0] not in forbid:\n",
    "            out_vertices.add(edge[0])"
   ]
  },
  {
   "cell_type": "code",
   "execution_count": 7,
   "metadata": {},
   "outputs": [],
   "source": []
  },
  {
   "cell_type": "code",
   "execution_count": 3,
   "metadata": {},
   "outputs": [],
   "source": [
    "def begin_time(link):\n",
    "    return link[0]\n",
    "\n",
    "def overlap(a, b):\n",
    "    if max(0, min(a[1], b[1]) - max(a[0], b[0])) > 0:\n",
    "        return True\n",
    "    else:\n",
    "        return False\n",
    "    \n",
    "def activation_time(n, stream):\n",
    "    result = []\n",
    "    stream = sorted(stream, key = begin_time)\n",
    "    for link in stream:\n",
    "        if n in link[0]:\n",
    "            i = [link[1], link[2]]\n",
    "            ol = False\n",
    "            for interval in result:\n",
    "                if overlap(interval, i):\n",
    "                    result.remove(interval)\n",
    "                    result.append([min(i[0], interval[0]), max(i[1], interval[1])])\n",
    "                    ol = True\n",
    "                    break\n",
    "            if not ol:\n",
    "                result.append(i)\n",
    "    return result\n",
    "\n",
    "def intersect_activation_time(n1, n2, stream):\n",
    "    t1 = activation_time(n1, stream)\n",
    "    t2 = activation_time(n2, stream)\n",
    "    result = 0\n",
    "    for i1 in t1:\n",
    "        for i2 in t2:\n",
    "            result += max(0, min(i1[1], i2[1]) - max(i1[0], i2[0]))\n",
    "    return result"
   ]
  },
  {
   "cell_type": "code",
   "execution_count": 4,
   "metadata": {},
   "outputs": [],
   "source": [
    "def density(stream):\n",
    "    nominator = 0\n",
    "    for link in stream:\n",
    "        nominator += link[2] - link[1]\n",
    "        \n",
    "    denominator = 0\n",
    "    for link in stream:\n",
    "        denominator += intersect_activation_time(link[0][0], link[0][1], stream)\n",
    "        \n",
    "    return nominator / denominator"
   ]
  },
  {
   "cell_type": "code",
   "execution_count": 51,
   "metadata": {},
   "outputs": [],
   "source": [
    "mc = maximal_clique(graph)"
   ]
  },
  {
   "cell_type": "code",
   "execution_count": 54,
   "metadata": {},
   "outputs": [],
   "source": [
    "X = [density(stream) for stream in mc]"
   ]
  },
  {
   "cell_type": "markdown",
   "metadata": {},
   "source": [
    "## Plotting"
   ]
  },
  {
   "cell_type": "code",
   "execution_count": 50,
   "metadata": {},
   "outputs": [],
   "source": [
    "import numpy as np\n",
    "import pandas as pd\n",
    "import seaborn as sns\n",
    "import matplotlib.pyplot as plt\n",
    "from scipy import stats"
   ]
  },
  {
   "cell_type": "code",
   "execution_count": 56,
   "metadata": {},
   "outputs": [
    {
     "name": "stderr",
     "output_type": "stream",
     "text": [
      "C:\\Users\\tungu\\Anaconda3\\lib\\site-packages\\scipy\\stats\\stats.py:1713: FutureWarning: Using a non-tuple sequence for multidimensional indexing is deprecated; use `arr[tuple(seq)]` instead of `arr[seq]`. In the future this will be interpreted as an array index, `arr[np.array(seq)]`, which will result either in an error or a different result.\n",
      "  return np.add.reduce(sorted[indexer] * weights, axis=axis) / sumval\n"
     ]
    },
    {
     "data": {
      "text/plain": [
       "<matplotlib.axes._subplots.AxesSubplot at 0x1fabaa516a0>"
      ]
     },
     "execution_count": 56,
     "metadata": {},
     "output_type": "execute_result"
    },
    {
     "data": {
      "image/png": "[encoded data removed]",
      "text/plain": [
       "<Figure size 432x288 with 1 Axes>"
      ]
     },
     "metadata": {},
     "output_type": "display_data"
    }
   ],
   "source": [
    "sns.set(color_codes=True)\n",
    "sns.distplot(X)"
   ]
  },
  {
   "cell_type": "code",
   "execution_count": 32,
   "metadata": {},
   "outputs": [
    {
     "data": {
      "text/plain": [
       "1594,1201 94900,95120"
      ]
     },
     "execution_count": 32,
     "metadata": {},
     "output_type": "execute_result"
    }
   ],
   "source": [
    "node_clique_dict[11409]"
   ]
  },
  {
   "cell_type": "code",
   "execution_count": 33,
   "metadata": {},
   "outputs": [
    {
     "data": {
      "text/plain": [
       "1594,1828 95100,95360"
      ]
     },
     "execution_count": 33,
     "metadata": {},
     "output_type": "execute_result"
    }
   ],
   "source": [
    "node_clique_dict[43362]"
   ]
  },
  {
   "cell_type": "code",
   "execution_count": 35,
   "metadata": {},
   "outputs": [],
   "source": [
    "a = (1, 2,3, 4)"
   ]
  },
  {
   "cell_type": "code",
   "execution_count": 36,
   "metadata": {},
   "outputs": [
    {
     "data": {
      "text/plain": [
       "4"
      ]
     },
     "execution_count": 36,
     "metadata": {},
     "output_type": "execute_result"
    }
   ],
   "source": [
    "len(a)"
   ]
  },
  {
   "cell_type": "code",
   "execution_count": 35,
   "metadata": {},
   "outputs": [],
   "source": [
    "a = set()"
   ]
  },
  {
   "cell_type": "code",
   "execution_count": 36,
   "metadata": {},
   "outputs": [],
   "source": [
    "a.add(0)\n",
    "a.add(1)"
   ]
  },
  {
   "cell_type": "code",
   "execution_count": 38,
   "metadata": {},
   "outputs": [
    {
     "ename": "TypeError",
     "evalue": "'set' object does not support indexing",
     "output_type": "error",
     "traceback": [
      "\u001b[1;31m---------------------------------------------------------------------------\u001b[0m",
      "\u001b[1;31mTypeError\u001b[0m                                 Traceback (most recent call last)",
      "\u001b[1;32m<ipython-input-38-6a1284577a36>\u001b[0m in \u001b[0;36m<module>\u001b[1;34m\u001b[0m\n\u001b[1;32m----> 1\u001b[1;33m \u001b[0ma\u001b[0m\u001b[1;33m[\u001b[0m\u001b[1;36m0\u001b[0m\u001b[1;33m]\u001b[0m\u001b[1;33m\u001b[0m\u001b[1;33m\u001b[0m\u001b[0m\n\u001b[0m",
      "\u001b[1;31mTypeError\u001b[0m: 'set' object does not support indexing"
     ]
    }
   ],
   "source": [
    "a[0]"
   ]
  },
  {
   "cell_type": "code",
   "execution_count": null,
   "metadata": {},
   "outputs": [],
   "source": []
  }
 ],
 "metadata": {
  "kernelspec": {
   "display_name": "Python 3",
   "language": "python",
   "name": "python3"
  },
  "language_info": {
   "codemirror_mode": {
    "name": "ipython",
    "version": 3
   },
   "file_extension": ".py",
   "mimetype": "text/x-python",
   "name": "python",
   "nbconvert_exporter": "python",
   "pygments_lexer": "ipython3",
   "version": "3.7.1"
  }
 },
 "nbformat": 4,
 "nbformat_minor": 2
}
